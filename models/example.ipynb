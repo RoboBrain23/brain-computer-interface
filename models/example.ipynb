{
 "cells": [
  {
   "cell_type": "code",
   "execution_count": 1,
   "metadata": {},
   "outputs": [],
   "source": [
    "from tcnn import TCNN\n",
    "from fb_tcnn import FBTCNN\n",
    "from deepconvnet import DeepConvNet\n",
    "from shallowconvnet import ShallowConvNet"
   ]
  },
  {
   "cell_type": "markdown",
   "metadata": {},
   "source": [
    "- data shape (num_rows,num_channels)\n",
    "- label shape (num_trails,1)\n",
    "- time shape (num_trails,1)"
   ]
  },
  {
   "cell_type": "code",
   "execution_count": 2,
   "metadata": {},
   "outputs": [],
   "source": [
    "import pandas as pd\n",
    "data_path = 'data.csv'\n",
    "label_path = 'label.csv'\n",
    "time_path = 'start_time.csv'\n",
    "\n",
    "# get the filtered EEG-data, label and the start time of all trials of the training data\n",
    "data, label, start_time = pd.read_csv(data_path).values,pd.read_csv(label_path).values,pd.read_csv(time_path).values.reshape(-1)"
   ]
  },
  {
   "cell_type": "code",
   "execution_count": 5,
   "metadata": {},
   "outputs": [
    {
     "data": {
      "text/plain": [
       "((113565, 2), (180, 1), (180,))"
      ]
     },
     "execution_count": 5,
     "metadata": {},
     "output_type": "execute_result"
    }
   ],
   "source": [
    "data.shape,label.shape,start_time.shape"
   ]
  },
  {
   "cell_type": "code",
   "execution_count": 3,
   "metadata": {},
   "outputs": [],
   "source": [
    "model = TCNN(fs=128)\n",
    "model.set_window_time(1.8)"
   ]
  },
  {
   "cell_type": "code",
   "execution_count": null,
   "metadata": {},
   "outputs": [],
   "source": [
    "model.train(data,label,start_time,lr=0.01,batch_size=256,epochs=1000,tensorboard=False,check_point=True,check_point_mode='auto')"
   ]
  }
 ],
 "metadata": {
  "kernelspec": {
   "display_name": "tf",
   "language": "python",
   "name": "python3"
  },
  "language_info": {
   "codemirror_mode": {
    "name": "ipython",
    "version": 3
   },
   "file_extension": ".py",
   "mimetype": "text/x-python",
   "name": "python",
   "nbconvert_exporter": "python",
   "pygments_lexer": "ipython3",
   "version": "3.9.16"
  },
  "orig_nbformat": 4
 },
 "nbformat": 4,
 "nbformat_minor": 2
}
